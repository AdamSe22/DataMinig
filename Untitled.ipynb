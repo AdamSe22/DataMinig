{
 "cells": [
  {
   "cell_type": "code",
   "execution_count": 240,
   "id": "79b018e8",
   "metadata": {},
   "outputs": [],
   "source": [
    "import pandas as pd \n",
    "import numpy as np \n",
    "import matplotlib.pyplot as plt\n",
    "import seaborn as sns\n",
    "from sklearn.linear_model import LinearRegression, Ridge, Lasso\n",
    "from sklearn.tree import DecisionTreeRegressor\n",
    "from sklearn.ensemble import RandomForestRegressor, GradientBoostingRegressor\n",
    "from sklearn.svm import SVR\n",
    "from sklearn.neighbors import KNeighborsRegressor\n",
    "from xgboost import XGBRegressor\n",
    "from sklearn.metrics import r2_score, mean_absolute_error"
   ]
  },
  {
   "cell_type": "code",
   "execution_count": 133,
   "id": "b13dc619",
   "metadata": {},
   "outputs": [],
   "source": [
    "data = pd.read_csv(\"Student_Performance3.csv\")"
   ]
  },
  {
   "cell_type": "code",
   "execution_count": 134,
   "id": "eed03a90",
   "metadata": {},
   "outputs": [
    {
     "data": {
      "text/html": [
       "<div>\n",
       "<style scoped>\n",
       "    .dataframe tbody tr th:only-of-type {\n",
       "        vertical-align: middle;\n",
       "    }\n",
       "\n",
       "    .dataframe tbody tr th {\n",
       "        vertical-align: top;\n",
       "    }\n",
       "\n",
       "    .dataframe thead th {\n",
       "        text-align: right;\n",
       "    }\n",
       "</style>\n",
       "<table border=\"1\" class=\"dataframe\">\n",
       "  <thead>\n",
       "    <tr style=\"text-align: right;\">\n",
       "      <th></th>\n",
       "      <th>Hours Studied</th>\n",
       "      <th>Previous Scores</th>\n",
       "      <th>Extracurricular Activities</th>\n",
       "      <th>Sleep Hours</th>\n",
       "      <th>Sample Question Papers Practiced</th>\n",
       "      <th>Performance Index</th>\n",
       "    </tr>\n",
       "  </thead>\n",
       "  <tbody>\n",
       "    <tr>\n",
       "      <th>0</th>\n",
       "      <td>7.0</td>\n",
       "      <td>99.0</td>\n",
       "      <td>Yes</td>\n",
       "      <td>9.0</td>\n",
       "      <td>1.0</td>\n",
       "      <td>91.0</td>\n",
       "    </tr>\n",
       "    <tr>\n",
       "      <th>1</th>\n",
       "      <td>4.0</td>\n",
       "      <td>82.0</td>\n",
       "      <td>No</td>\n",
       "      <td>4.0</td>\n",
       "      <td>2.0</td>\n",
       "      <td>-99999.0</td>\n",
       "    </tr>\n",
       "    <tr>\n",
       "      <th>2</th>\n",
       "      <td>8.0</td>\n",
       "      <td>51.0</td>\n",
       "      <td>Yes</td>\n",
       "      <td>7.0</td>\n",
       "      <td>2.0</td>\n",
       "      <td>45.0</td>\n",
       "    </tr>\n",
       "    <tr>\n",
       "      <th>3</th>\n",
       "      <td>5.0</td>\n",
       "      <td>52.0</td>\n",
       "      <td>Yes</td>\n",
       "      <td>5.0</td>\n",
       "      <td>2.0</td>\n",
       "      <td>99999.0</td>\n",
       "    </tr>\n",
       "    <tr>\n",
       "      <th>4</th>\n",
       "      <td>7.0</td>\n",
       "      <td>75.0</td>\n",
       "      <td>No</td>\n",
       "      <td>8.0</td>\n",
       "      <td>5.0</td>\n",
       "      <td>66.0</td>\n",
       "    </tr>\n",
       "  </tbody>\n",
       "</table>\n",
       "</div>"
      ],
      "text/plain": [
       "   Hours Studied  Previous Scores Extracurricular Activities  Sleep Hours  \\\n",
       "0            7.0             99.0                        Yes          9.0   \n",
       "1            4.0             82.0                         No          4.0   \n",
       "2            8.0             51.0                        Yes          7.0   \n",
       "3            5.0             52.0                        Yes          5.0   \n",
       "4            7.0             75.0                         No          8.0   \n",
       "\n",
       "   Sample Question Papers Practiced  Performance Index  \n",
       "0                               1.0               91.0  \n",
       "1                               2.0           -99999.0  \n",
       "2                               2.0               45.0  \n",
       "3                               2.0            99999.0  \n",
       "4                               5.0               66.0  "
      ]
     },
     "execution_count": 134,
     "metadata": {},
     "output_type": "execute_result"
    }
   ],
   "source": [
    "data.head()"
   ]
  },
  {
   "cell_type": "code",
   "execution_count": 135,
   "id": "5b2af4b2",
   "metadata": {
    "scrolled": true
   },
   "outputs": [
    {
     "name": "stdout",
     "output_type": "stream",
     "text": [
      "<class 'pandas.core.frame.DataFrame'>\n",
      "RangeIndex: 10000 entries, 0 to 9999\n",
      "Data columns (total 6 columns):\n",
      " #   Column                            Non-Null Count  Dtype  \n",
      "---  ------                            --------------  -----  \n",
      " 0   Hours Studied                     9508 non-null   float64\n",
      " 1   Previous Scores                   9510 non-null   float64\n",
      " 2   Extracurricular Activities        9573 non-null   object \n",
      " 3   Sleep Hours                       9527 non-null   float64\n",
      " 4   Sample Question Papers Practiced  9508 non-null   float64\n",
      " 5   Performance Index                 9534 non-null   float64\n",
      "dtypes: float64(5), object(1)\n",
      "memory usage: 468.9+ KB\n"
     ]
    }
   ],
   "source": [
    "data.info()"
   ]
  },
  {
   "cell_type": "raw",
   "id": "9bff5201",
   "metadata": {},
   "source": []
  },
  {
   "cell_type": "code",
   "execution_count": 136,
   "id": "2672869c",
   "metadata": {},
   "outputs": [
    {
     "data": {
      "text/plain": [
       "(10000, 6)"
      ]
     },
     "execution_count": 136,
     "metadata": {},
     "output_type": "execute_result"
    }
   ],
   "source": [
    "data.shape"
   ]
  },
  {
   "cell_type": "code",
   "execution_count": 137,
   "id": "4398df4c",
   "metadata": {},
   "outputs": [
    {
     "data": {
      "text/html": [
       "<div>\n",
       "<style scoped>\n",
       "    .dataframe tbody tr th:only-of-type {\n",
       "        vertical-align: middle;\n",
       "    }\n",
       "\n",
       "    .dataframe tbody tr th {\n",
       "        vertical-align: top;\n",
       "    }\n",
       "\n",
       "    .dataframe thead th {\n",
       "        text-align: right;\n",
       "    }\n",
       "</style>\n",
       "<table border=\"1\" class=\"dataframe\">\n",
       "  <thead>\n",
       "    <tr style=\"text-align: right;\">\n",
       "      <th></th>\n",
       "      <th>Hours Studied</th>\n",
       "      <th>Previous Scores</th>\n",
       "      <th>Extracurricular Activities</th>\n",
       "      <th>Sleep Hours</th>\n",
       "      <th>Sample Question Papers Practiced</th>\n",
       "      <th>Performance Index</th>\n",
       "    </tr>\n",
       "  </thead>\n",
       "  <tbody>\n",
       "    <tr>\n",
       "      <th>count</th>\n",
       "      <td>9508.000000</td>\n",
       "      <td>9510.000000</td>\n",
       "      <td>9573</td>\n",
       "      <td>9527.000000</td>\n",
       "      <td>9508.000000</td>\n",
       "      <td>9534.000000</td>\n",
       "    </tr>\n",
       "    <tr>\n",
       "      <th>unique</th>\n",
       "      <td>NaN</td>\n",
       "      <td>NaN</td>\n",
       "      <td>4</td>\n",
       "      <td>NaN</td>\n",
       "      <td>NaN</td>\n",
       "      <td>NaN</td>\n",
       "    </tr>\n",
       "    <tr>\n",
       "      <th>top</th>\n",
       "      <td>NaN</td>\n",
       "      <td>NaN</td>\n",
       "      <td>No</td>\n",
       "      <td>NaN</td>\n",
       "      <td>NaN</td>\n",
       "      <td>NaN</td>\n",
       "    </tr>\n",
       "    <tr>\n",
       "      <th>freq</th>\n",
       "      <td>NaN</td>\n",
       "      <td>NaN</td>\n",
       "      <td>4701</td>\n",
       "      <td>NaN</td>\n",
       "      <td>NaN</td>\n",
       "      <td>NaN</td>\n",
       "    </tr>\n",
       "    <tr>\n",
       "      <th>mean</th>\n",
       "      <td>225.713925</td>\n",
       "      <td>130.297371</td>\n",
       "      <td>NaN</td>\n",
       "      <td>174.261572</td>\n",
       "      <td>109.615587</td>\n",
       "      <td>-20.188903</td>\n",
       "    </tr>\n",
       "    <tr>\n",
       "      <th>std</th>\n",
       "      <td>17373.136279</td>\n",
       "      <td>17996.810041</td>\n",
       "      <td>NaN</td>\n",
       "      <td>17921.756813</td>\n",
       "      <td>16976.187314</td>\n",
       "      <td>18633.595386</td>\n",
       "    </tr>\n",
       "    <tr>\n",
       "      <th>min</th>\n",
       "      <td>-99999.000000</td>\n",
       "      <td>-99999.000000</td>\n",
       "      <td>NaN</td>\n",
       "      <td>-99999.000000</td>\n",
       "      <td>-99999.000000</td>\n",
       "      <td>-99999.000000</td>\n",
       "    </tr>\n",
       "    <tr>\n",
       "      <th>25%</th>\n",
       "      <td>3.000000</td>\n",
       "      <td>54.000000</td>\n",
       "      <td>NaN</td>\n",
       "      <td>5.000000</td>\n",
       "      <td>2.000000</td>\n",
       "      <td>40.000000</td>\n",
       "    </tr>\n",
       "    <tr>\n",
       "      <th>50%</th>\n",
       "      <td>5.000000</td>\n",
       "      <td>69.000000</td>\n",
       "      <td>NaN</td>\n",
       "      <td>7.000000</td>\n",
       "      <td>5.000000</td>\n",
       "      <td>55.000000</td>\n",
       "    </tr>\n",
       "    <tr>\n",
       "      <th>75%</th>\n",
       "      <td>7.000000</td>\n",
       "      <td>85.000000</td>\n",
       "      <td>NaN</td>\n",
       "      <td>8.000000</td>\n",
       "      <td>7.000000</td>\n",
       "      <td>71.000000</td>\n",
       "    </tr>\n",
       "    <tr>\n",
       "      <th>max</th>\n",
       "      <td>99999.000000</td>\n",
       "      <td>99999.000000</td>\n",
       "      <td>NaN</td>\n",
       "      <td>99999.000000</td>\n",
       "      <td>99999.000000</td>\n",
       "      <td>99999.000000</td>\n",
       "    </tr>\n",
       "  </tbody>\n",
       "</table>\n",
       "</div>"
      ],
      "text/plain": [
       "        Hours Studied  Previous Scores Extracurricular Activities  \\\n",
       "count     9508.000000      9510.000000                       9573   \n",
       "unique            NaN              NaN                          4   \n",
       "top               NaN              NaN                         No   \n",
       "freq              NaN              NaN                       4701   \n",
       "mean       225.713925       130.297371                        NaN   \n",
       "std      17373.136279     17996.810041                        NaN   \n",
       "min     -99999.000000    -99999.000000                        NaN   \n",
       "25%          3.000000        54.000000                        NaN   \n",
       "50%          5.000000        69.000000                        NaN   \n",
       "75%          7.000000        85.000000                        NaN   \n",
       "max      99999.000000     99999.000000                        NaN   \n",
       "\n",
       "         Sleep Hours  Sample Question Papers Practiced  Performance Index  \n",
       "count    9527.000000                       9508.000000        9534.000000  \n",
       "unique           NaN                               NaN                NaN  \n",
       "top              NaN                               NaN                NaN  \n",
       "freq             NaN                               NaN                NaN  \n",
       "mean      174.261572                        109.615587         -20.188903  \n",
       "std     17921.756813                      16976.187314       18633.595386  \n",
       "min    -99999.000000                     -99999.000000      -99999.000000  \n",
       "25%         5.000000                          2.000000          40.000000  \n",
       "50%         7.000000                          5.000000          55.000000  \n",
       "75%         8.000000                          7.000000          71.000000  \n",
       "max     99999.000000                      99999.000000       99999.000000  "
      ]
     },
     "execution_count": 137,
     "metadata": {},
     "output_type": "execute_result"
    }
   ],
   "source": [
    "data.describe(include='all')"
   ]
  },
  {
   "cell_type": "code",
   "execution_count": 138,
   "id": "ec125ed1",
   "metadata": {},
   "outputs": [
    {
     "data": {
      "text/plain": [
       "Hours Studied                       492\n",
       "Previous Scores                     490\n",
       "Extracurricular Activities          427\n",
       "Sleep Hours                         473\n",
       "Sample Question Papers Practiced    492\n",
       "Performance Index                   466\n",
       "dtype: int64"
      ]
     },
     "execution_count": 138,
     "metadata": {},
     "output_type": "execute_result"
    }
   ],
   "source": [
    "data.isnull().sum()"
   ]
  },
  {
   "cell_type": "code",
   "execution_count": 139,
   "id": "a1d6e603",
   "metadata": {},
   "outputs": [
    {
     "data": {
      "text/plain": [
       "55"
      ]
     },
     "execution_count": 139,
     "metadata": {},
     "output_type": "execute_result"
    }
   ],
   "source": [
    "data.duplicated().sum()"
   ]
  },
  {
   "cell_type": "code",
   "execution_count": 140,
   "id": "4428abd6",
   "metadata": {},
   "outputs": [],
   "source": [
    "data.drop_duplicates(inplace=True)"
   ]
  },
  {
   "cell_type": "code",
   "execution_count": 141,
   "id": "9e06c171",
   "metadata": {},
   "outputs": [],
   "source": [
    "data['Extracurricular Activities'] = data['Extracurricular Activities'].apply(lambda x: x if x in ['Yes', 'No'] else np.nan)"
   ]
  },
  {
   "cell_type": "code",
   "execution_count": 142,
   "id": "fa4e9f12",
   "metadata": {},
   "outputs": [
    {
     "data": {
      "text/plain": [
       "<bound method IndexOpsMixin.value_counts of 0       Yes\n",
       "1        No\n",
       "2       Yes\n",
       "3       Yes\n",
       "4        No\n",
       "       ... \n",
       "9995    Yes\n",
       "9996    NaN\n",
       "9997    Yes\n",
       "9998    Yes\n",
       "9999     No\n",
       "Name: Extracurricular Activities, Length: 9945, dtype: object>"
      ]
     },
     "execution_count": 142,
     "metadata": {},
     "output_type": "execute_result"
    }
   ],
   "source": [
    "data['Extracurricular Activities'].value_counts"
   ]
  },
  {
   "cell_type": "code",
   "execution_count": 201,
   "id": "19482d28",
   "metadata": {},
   "outputs": [],
   "source": [
    "#Renseigner les valeurs manquantes\n",
    "cat_data = []\n",
    "num_data = []\n",
    "for i , c in enumerate(data.dtypes):\n",
    "    if c == \"object\":\n",
    "        cat_data.append(data.iloc[:,i])\n",
    "    else :\n",
    "        num_data.append(data.iloc[:,i])\n",
    "num_data = pd.DataFrame(num_data).transpose()\n",
    "cat_data = pd.DataFrame(cat_data).transpose()\n"
   ]
  },
  {
   "cell_type": "code",
   "execution_count": 202,
   "id": "357f4c69",
   "metadata": {},
   "outputs": [
    {
     "data": {
      "text/plain": [
       "Extracurricular Activities    700\n",
       "dtype: int64"
      ]
     },
     "execution_count": 202,
     "metadata": {},
     "output_type": "execute_result"
    }
   ],
   "source": [
    "cat_data.isnull().sum()"
   ]
  },
  {
   "cell_type": "code",
   "execution_count": 203,
   "id": "f92b8a71",
   "metadata": {},
   "outputs": [
    {
     "name": "stdout",
     "output_type": "stream",
     "text": [
      "(9245, 1)\n",
      "(9945, 1)\n"
     ]
    }
   ],
   "source": [
    "print(cat_data.dropna().shape)\n",
    "print(cat_data.shape)"
   ]
  },
  {
   "cell_type": "code",
   "execution_count": 204,
   "id": "2a589438",
   "metadata": {},
   "outputs": [
    {
     "data": {
      "text/plain": [
       "Extracurricular Activities    0\n",
       "dtype: int64"
      ]
     },
     "execution_count": 204,
     "metadata": {},
     "output_type": "execute_result"
    }
   ],
   "source": [
    "#dans ce cas nous avons moin de 10% alors je preferer de supprimer les valeur manquantes\n",
    "cat_data.dropna(inplace=True)\n",
    "cat_data.isnull().sum()"
   ]
  },
  {
   "cell_type": "code",
   "execution_count": 205,
   "id": "62fa6dbc",
   "metadata": {},
   "outputs": [
    {
     "data": {
      "text/plain": [
       "False"
      ]
     },
     "execution_count": 205,
     "metadata": {},
     "output_type": "execute_result"
    }
   ],
   "source": [
    "#pour le cas ou il est plus que 10% on va remplacer les manquantes par des valeurs qui se represent le plus ou par le plus proche\n",
    "cat_data = cat_data.apply(lambda x:x.fillna(x.value_counts().index[0]))\n",
    "cat_data.isnull().sum().any()\n"
   ]
  },
  {
   "cell_type": "code",
   "execution_count": 206,
   "id": "6aae7ae7",
   "metadata": {},
   "outputs": [
    {
     "data": {
      "text/plain": [
       "Index(['Hours Studied', 'Previous Scores', 'Extracurricular Activities',\n",
       "       'Sleep Hours', 'Sample Question Papers Practiced', 'Performance Index'],\n",
       "      dtype='object')"
      ]
     },
     "execution_count": 206,
     "metadata": {},
     "output_type": "execute_result"
    }
   ],
   "source": [
    "data.columns"
   ]
  },
  {
   "cell_type": "code",
   "execution_count": 124,
   "id": "3ce4df64",
   "metadata": {},
   "outputs": [
    {
     "data": {
      "text/plain": [
       "Extracurricular Activities\n",
       "No     4676\n",
       "Yes    4569\n",
       "Name: count, dtype: int64"
      ]
     },
     "execution_count": 124,
     "metadata": {},
     "output_type": "execute_result"
    }
   ],
   "source": [
    "data['Extracurricular Activities'].value_counts()"
   ]
  },
  {
   "cell_type": "code",
   "execution_count": 36,
   "id": "518f40f7",
   "metadata": {},
   "outputs": [],
   "source": []
  },
  {
   "cell_type": "code",
   "execution_count": 207,
   "id": "ec9c69cd",
   "metadata": {
    "scrolled": true
   },
   "outputs": [
    {
     "name": "stdout",
     "output_type": "stream",
     "text": [
      "(7755, 5)\n",
      "(9945, 5)\n"
     ]
    }
   ],
   "source": [
    "#pour les valeurs numeriques \n",
    "print(num_data.dropna().shape)\n",
    "print(num_data.shape)"
   ]
  },
  {
   "cell_type": "code",
   "execution_count": 208,
   "id": "2b9a7f9b",
   "metadata": {},
   "outputs": [
    {
     "name": "stderr",
     "output_type": "stream",
     "text": [
      "C:\\Users\\Adam\\AppData\\Local\\Temp\\ipykernel_11112\\1803669240.py:2: FutureWarning: DataFrame.fillna with 'method' is deprecated and will raise in a future version. Use obj.ffill() or obj.bfill() instead.\n",
      "  num_data.fillna(method='bfill',inplace = True)\n"
     ]
    },
    {
     "data": {
      "text/plain": [
       "False"
      ]
     },
     "execution_count": 208,
     "metadata": {},
     "output_type": "execute_result"
    }
   ],
   "source": [
    "# pour les valeur manquante on vas les remplacers par les valeurs precedents de la meme columns \n",
    "num_data.fillna(method='bfill',inplace = True)\n",
    "num_data.isnull().sum().any()"
   ]
  },
  {
   "cell_type": "code",
   "execution_count": 209,
   "id": "200c5b14",
   "metadata": {},
   "outputs": [
    {
     "data": {
      "text/plain": [
       "Hours Studied                       0\n",
       "Previous Scores                     0\n",
       "Sleep Hours                         0\n",
       "Sample Question Papers Practiced    0\n",
       "Performance Index                   0\n",
       "dtype: int64"
      ]
     },
     "execution_count": 209,
     "metadata": {},
     "output_type": "execute_result"
    }
   ],
   "source": [
    "num_data.isnull().sum()"
   ]
  },
  {
   "cell_type": "code",
   "execution_count": 152,
   "id": "9812553a",
   "metadata": {},
   "outputs": [
    {
     "data": {
      "text/plain": [
       "Extracurricular Activities\n",
       "No                            4676\n",
       "Yes                           4569\n",
       "Name: count, dtype: int64"
      ]
     },
     "execution_count": 152,
     "metadata": {},
     "output_type": "execute_result"
    }
   ],
   "source": [
    "# Label encodeeeer\n",
    "cat_data.value_counts()"
   ]
  },
  {
   "cell_type": "code",
   "execution_count": 210,
   "id": "1b115d2e",
   "metadata": {},
   "outputs": [
    {
     "data": {
      "text/html": [
       "<div>\n",
       "<style scoped>\n",
       "    .dataframe tbody tr th:only-of-type {\n",
       "        vertical-align: middle;\n",
       "    }\n",
       "\n",
       "    .dataframe tbody tr th {\n",
       "        vertical-align: top;\n",
       "    }\n",
       "\n",
       "    .dataframe thead th {\n",
       "        text-align: right;\n",
       "    }\n",
       "</style>\n",
       "<table border=\"1\" class=\"dataframe\">\n",
       "  <thead>\n",
       "    <tr style=\"text-align: right;\">\n",
       "      <th></th>\n",
       "      <th>Extracurricular Activities</th>\n",
       "    </tr>\n",
       "  </thead>\n",
       "  <tbody>\n",
       "    <tr>\n",
       "      <th>0</th>\n",
       "      <td>1</td>\n",
       "    </tr>\n",
       "    <tr>\n",
       "      <th>1</th>\n",
       "      <td>0</td>\n",
       "    </tr>\n",
       "    <tr>\n",
       "      <th>2</th>\n",
       "      <td>1</td>\n",
       "    </tr>\n",
       "    <tr>\n",
       "      <th>3</th>\n",
       "      <td>1</td>\n",
       "    </tr>\n",
       "    <tr>\n",
       "      <th>4</th>\n",
       "      <td>0</td>\n",
       "    </tr>\n",
       "    <tr>\n",
       "      <th>...</th>\n",
       "      <td>...</td>\n",
       "    </tr>\n",
       "    <tr>\n",
       "      <th>9994</th>\n",
       "      <td>1</td>\n",
       "    </tr>\n",
       "    <tr>\n",
       "      <th>9995</th>\n",
       "      <td>1</td>\n",
       "    </tr>\n",
       "    <tr>\n",
       "      <th>9997</th>\n",
       "      <td>1</td>\n",
       "    </tr>\n",
       "    <tr>\n",
       "      <th>9998</th>\n",
       "      <td>1</td>\n",
       "    </tr>\n",
       "    <tr>\n",
       "      <th>9999</th>\n",
       "      <td>0</td>\n",
       "    </tr>\n",
       "  </tbody>\n",
       "</table>\n",
       "<p>9245 rows × 1 columns</p>\n",
       "</div>"
      ],
      "text/plain": [
       "      Extracurricular Activities\n",
       "0                              1\n",
       "1                              0\n",
       "2                              1\n",
       "3                              1\n",
       "4                              0\n",
       "...                          ...\n",
       "9994                           1\n",
       "9995                           1\n",
       "9997                           1\n",
       "9998                           1\n",
       "9999                           0\n",
       "\n",
       "[9245 rows x 1 columns]"
      ]
     },
     "execution_count": 210,
     "metadata": {},
     "output_type": "execute_result"
    }
   ],
   "source": [
    "#remplacer les valeurs categoriques par des valeurs numeriques\n",
    "le = LabelEncoder()\n",
    "for i in cat_data :\n",
    "    cat_data[i]=le.fit_transform(cat_data[i])\n",
    "cat_data"
   ]
  },
  {
   "cell_type": "code",
   "execution_count": 211,
   "id": "eab1a534",
   "metadata": {
    "scrolled": true
   },
   "outputs": [
    {
     "data": {
      "text/plain": [
       "0          91.0\n",
       "1      -99999.0\n",
       "2          45.0\n",
       "3       99999.0\n",
       "4          66.0\n",
       "         ...   \n",
       "9965       70.0\n",
       "9977       82.0\n",
       "9988       20.0\n",
       "9989       27.0\n",
       "9996       58.0\n",
       "Name: Performance Index, Length: 9945, dtype: float64"
      ]
     },
     "execution_count": 211,
     "metadata": {},
     "output_type": "execute_result"
    }
   ],
   "source": [
    "X=pd.concat([cat_data,num_data],axis=1)\n",
    "Y=X.iloc[:,-1]\n",
    "Y"
   ]
  },
  {
   "cell_type": "code",
   "execution_count": null,
   "id": "77f60adc",
   "metadata": {},
   "outputs": [],
   "source": []
  },
  {
   "cell_type": "code",
   "execution_count": 162,
   "id": "2363d81d",
   "metadata": {},
   "outputs": [
    {
     "data": {
      "text/plain": [
       "Extracurricular Activities\n",
       "0.0    4676\n",
       "1.0    4569\n",
       "Name: count, dtype: int64"
      ]
     },
     "execution_count": 162,
     "metadata": {},
     "output_type": "execute_result"
    }
   ],
   "source": [
    "X['Extracurricular Activities'].value_counts()"
   ]
  },
  {
   "cell_type": "code",
   "execution_count": 122,
   "id": "5071c9e6",
   "metadata": {},
   "outputs": [
    {
     "data": {
      "text/plain": [
       "Extracurricular Activities\n",
       "0.0    4676\n",
       "1.0    4569\n",
       "Name: count, dtype: int64"
      ]
     },
     "execution_count": 122,
     "metadata": {},
     "output_type": "execute_result"
    }
   ],
   "source": [
    "X['Extracurricular Activities'].value_counts()"
   ]
  },
  {
   "cell_type": "code",
   "execution_count": null,
   "id": "09977e87",
   "metadata": {
    "scrolled": true
   },
   "outputs": [],
   "source": []
  },
  {
   "cell_type": "code",
   "execution_count": 224,
   "id": "cb784433",
   "metadata": {},
   "outputs": [
    {
     "data": {
      "image/png": "[encoded data removed]",
      "text/plain": [
       "<Figure size 640x480 with 2 Axes>"
      ]
     },
     "metadata": {},
     "output_type": "display_data"
    }
   ],
   "source": [
    "sns.heatmap(X.corr(), annot=True, cmap='YlGnBu', fmt='.2f', linewidths=0.5)\n",
    "plt.show()"
   ]
  },
  {
   "cell_type": "code",
   "execution_count": 225,
   "id": "3dcde681",
   "metadata": {
    "scrolled": true
   },
   "outputs": [
    {
     "data": {
      "image/png": "[encoded data removed]",
      "text/plain": [
       "<Figure size 2000x600 with 1 Axes>"
      ]
     },
     "metadata": {},
     "output_type": "display_data"
    }
   ],
   "source": [
    "#Box Plot\n",
    "plt.figure(figsize=(20, 6))\n",
    "sns.boxplot(data=X)\n",
    "plt.title(\"Box plot avant nettoyage\")\n",
    "plt.show()"
   ]
  },
  {
   "cell_type": "code",
   "execution_count": 334,
   "id": "b9ebe294",
   "metadata": {},
   "outputs": [
    {
     "name": "stdout",
     "output_type": "stream",
     "text": [
      "7.5 131.5\n"
     ]
    }
   ],
   "source": [
    "Q1 = data[\"Previous Scores\"].quantile(0.25)\n",
    "Q3 = data[\"Previous Scores\"].quantile(0.75)\n",
    "IQR = Q3 - Q1\n",
    "lower_bound = Q1 - 1.5 * IQR\n",
    "upper_bound = Q3 + 1.5 * IQR\n",
    "print(lower_bound , upper_bound)"
   ]
  },
  {
   "cell_type": "code",
   "execution_count": 218,
   "id": "d48df778",
   "metadata": {},
   "outputs": [],
   "source": [
    "# Z_score\n",
    "outliers = []\n",
    "def detecter_outliers(data):\n",
    "    mean = np.mean(data)\n",
    "    std = np.std(data)\n",
    "    for i in data : \n",
    "        z_score = (i-mean)/std\n",
    "        if np.abs(z_score)>2:\n",
    "            outliers.append(i) \n",
    "    return outliers\n",
    "    "
   ]
  },
  {
   "cell_type": "code",
   "execution_count": 219,
   "id": "2593c557",
   "metadata": {},
   "outputs": [
    {
     "data": {
      "text/plain": [
       "[-99999.0,\n",
       " -99999.0,\n",
       " -99999.0,\n",
       " 99999.0,\n",
       " 99999.0,\n",
       " -99999.0,\n",
       " 99999.0,\n",
       " -99999.0,\n",
       " -99999.0,\n",
       " 99999.0,\n",
       " -99999.0,\n",
       " -99999.0,\n",
       " -99999.0,\n",
       " -99999.0,\n",
       " 99999.0,\n",
       " -99999.0,\n",
       " 99999.0,\n",
       " 99999.0,\n",
       " 99999.0,\n",
       " -99999.0,\n",
       " -99999.0,\n",
       " 99999.0,\n",
       " -99999.0,\n",
       " 99999.0,\n",
       " 99999.0,\n",
       " -99999.0,\n",
       " 99999.0,\n",
       " -99999.0,\n",
       " 99999.0,\n",
       " 99999.0,\n",
       " -99999.0,\n",
       " -99999.0,\n",
       " 99999.0,\n",
       " 99999.0,\n",
       " -99999.0,\n",
       " 99999.0,\n",
       " -99999.0,\n",
       " 99999.0,\n",
       " 99999.0,\n",
       " 99999.0,\n",
       " -99999.0,\n",
       " -99999.0,\n",
       " 99999.0,\n",
       " -99999.0,\n",
       " 99999.0,\n",
       " 99999.0,\n",
       " 99999.0,\n",
       " 99999.0,\n",
       " -99999.0,\n",
       " 99999.0,\n",
       " -99999.0,\n",
       " -99999.0,\n",
       " -99999.0,\n",
       " -99999.0,\n",
       " 99999.0,\n",
       " -99999.0,\n",
       " -99999.0,\n",
       " 99999.0,\n",
       " -99999.0,\n",
       " 99999.0,\n",
       " 99999.0,\n",
       " -99999.0,\n",
       " -99999.0,\n",
       " 99999.0,\n",
       " -99999.0,\n",
       " 99999.0,\n",
       " -99999.0,\n",
       " 99999.0,\n",
       " 99999.0,\n",
       " -99999.0,\n",
       " -99999.0,\n",
       " -99999.0,\n",
       " 99999.0,\n",
       " 99999.0,\n",
       " 99999.0,\n",
       " -99999.0,\n",
       " 99999.0,\n",
       " -99999.0,\n",
       " 99999.0,\n",
       " -99999.0,\n",
       " -99999.0,\n",
       " 99999.0,\n",
       " -99999.0,\n",
       " -99999.0,\n",
       " 99999.0,\n",
       " 99999.0,\n",
       " 99999.0,\n",
       " -99999.0,\n",
       " 99999.0,\n",
       " 99999.0,\n",
       " -99999.0,\n",
       " 99999.0,\n",
       " 99999.0,\n",
       " 99999.0,\n",
       " 99999.0,\n",
       " -99999.0,\n",
       " 99999.0,\n",
       " -99999.0,\n",
       " 99999.0,\n",
       " 99999.0,\n",
       " -99999.0,\n",
       " 99999.0,\n",
       " 99999.0,\n",
       " 99999.0,\n",
       " 99999.0,\n",
       " -99999.0,\n",
       " -99999.0,\n",
       " 99999.0,\n",
       " 99999.0,\n",
       " -99999.0,\n",
       " -99999.0,\n",
       " 99999.0,\n",
       " 99999.0,\n",
       " -99999.0,\n",
       " -99999.0,\n",
       " 99999.0,\n",
       " -99999.0,\n",
       " -99999.0,\n",
       " 99999.0,\n",
       " -99999.0,\n",
       " -99999.0,\n",
       " -99999.0,\n",
       " 99999.0,\n",
       " 99999.0,\n",
       " 99999.0,\n",
       " -99999.0,\n",
       " -99999.0,\n",
       " -99999.0,\n",
       " -99999.0,\n",
       " -99999.0,\n",
       " 99999.0,\n",
       " -99999.0,\n",
       " -99999.0,\n",
       " 99999.0,\n",
       " 99999.0,\n",
       " 99999.0,\n",
       " -99999.0,\n",
       " -99999.0,\n",
       " -99999.0,\n",
       " -99999.0,\n",
       " 99999.0,\n",
       " 99999.0,\n",
       " 99999.0,\n",
       " -99999.0,\n",
       " -99999.0,\n",
       " -99999.0,\n",
       " -99999.0,\n",
       " -99999.0,\n",
       " 99999.0,\n",
       " 99999.0,\n",
       " 99999.0,\n",
       " -99999.0,\n",
       " -99999.0,\n",
       " -99999.0,\n",
       " 99999.0,\n",
       " 99999.0,\n",
       " -99999.0,\n",
       " -99999.0,\n",
       " 99999.0,\n",
       " 99999.0,\n",
       " -99999.0,\n",
       " -99999.0,\n",
       " -99999.0,\n",
       " 99999.0,\n",
       " 99999.0,\n",
       " 99999.0,\n",
       " 99999.0,\n",
       " -99999.0,\n",
       " 99999.0,\n",
       " 99999.0,\n",
       " -99999.0,\n",
       " 99999.0,\n",
       " 99999.0,\n",
       " 99999.0,\n",
       " 99999.0,\n",
       " -99999.0,\n",
       " -99999.0,\n",
       " -99999.0,\n",
       " -99999.0,\n",
       " 99999.0,\n",
       " 99999.0,\n",
       " -99999.0,\n",
       " -99999.0,\n",
       " -99999.0,\n",
       " 99999.0,\n",
       " -99999.0,\n",
       " 99999.0,\n",
       " 99999.0,\n",
       " -99999.0,\n",
       " -99999.0,\n",
       " -99999.0,\n",
       " 99999.0,\n",
       " -99999.0,\n",
       " -99999.0,\n",
       " -99999.0,\n",
       " 99999.0,\n",
       " -99999.0,\n",
       " 99999.0,\n",
       " -99999.0,\n",
       " -99999.0,\n",
       " -99999.0,\n",
       " -99999.0,\n",
       " -99999.0,\n",
       " 99999.0,\n",
       " -99999.0,\n",
       " 99999.0,\n",
       " 99999.0,\n",
       " -99999.0,\n",
       " 99999.0,\n",
       " -99999.0,\n",
       " 99999.0,\n",
       " 99999.0,\n",
       " 99999.0,\n",
       " 99999.0,\n",
       " 99999.0,\n",
       " -99999.0,\n",
       " 99999.0,\n",
       " -99999.0,\n",
       " 99999.0,\n",
       " -99999.0,\n",
       " -99999.0,\n",
       " 99999.0,\n",
       " -99999.0,\n",
       " -99999.0,\n",
       " 99999.0,\n",
       " -99999.0,\n",
       " 99999.0,\n",
       " 99999.0,\n",
       " 99999.0,\n",
       " -99999.0,\n",
       " 99999.0,\n",
       " 99999.0,\n",
       " 99999.0,\n",
       " -99999.0,\n",
       " 99999.0,\n",
       " 99999.0,\n",
       " 99999.0,\n",
       " -99999.0,\n",
       " 99999.0,\n",
       " 99999.0,\n",
       " 99999.0,\n",
       " -99999.0,\n",
       " 99999.0,\n",
       " 99999.0,\n",
       " -99999.0,\n",
       " 99999.0,\n",
       " 99999.0,\n",
       " -99999.0,\n",
       " 99999.0,\n",
       " 99999.0,\n",
       " -99999.0,\n",
       " 99999.0,\n",
       " 99999.0,\n",
       " 99999.0,\n",
       " -99999.0,\n",
       " -99999.0,\n",
       " 99999.0,\n",
       " -99999.0,\n",
       " 99999.0,\n",
       " 99999.0,\n",
       " 99999.0,\n",
       " 99999.0,\n",
       " -99999.0,\n",
       " -99999.0,\n",
       " -99999.0,\n",
       " -99999.0,\n",
       " -99999.0,\n",
       " -99999.0,\n",
       " 99999.0,\n",
       " 99999.0,\n",
       " -99999.0,\n",
       " -99999.0,\n",
       " -99999.0,\n",
       " 99999.0,\n",
       " -99999.0,\n",
       " -99999.0,\n",
       " 99999.0,\n",
       " -99999.0,\n",
       " 99999.0,\n",
       " -99999.0,\n",
       " -99999.0,\n",
       " -99999.0,\n",
       " -99999.0,\n",
       " 99999.0,\n",
       " 99999.0,\n",
       " 99999.0,\n",
       " 99999.0,\n",
       " 99999.0,\n",
       " 99999.0,\n",
       " -99999.0,\n",
       " 99999.0,\n",
       " -99999.0,\n",
       " 99999.0,\n",
       " -99999.0,\n",
       " 99999.0,\n",
       " -99999.0,\n",
       " 99999.0,\n",
       " -99999.0,\n",
       " 99999.0,\n",
       " 99999.0,\n",
       " 99999.0,\n",
       " -99999.0,\n",
       " -99999.0,\n",
       " -99999.0,\n",
       " 99999.0,\n",
       " 99999.0,\n",
       " 99999.0]"
      ]
     },
     "execution_count": 219,
     "metadata": {},
     "output_type": "execute_result"
    }
   ],
   "source": [
    "detecter_outliers(data[\"Previous Scores\"])"
   ]
  },
  {
   "cell_type": "code",
   "execution_count": 52,
   "id": "5b856b42",
   "metadata": {},
   "outputs": [
    {
     "data": {
      "text/plain": [
       "<Axes: xlabel='Previous Scores'>"
      ]
     },
     "execution_count": 52,
     "metadata": {},
     "output_type": "execute_result"
    },
    {
     "data": {
      "image/png": "[encoded data removed]",
      "text/plain": [
       "<Figure size 640x480 with 1 Axes>"
      ]
     },
     "metadata": {},
     "output_type": "display_data"
    }
   ],
   "source": [
    "sns.boxplot(x=X[\"Previous Scores\"])"
   ]
  },
  {
   "cell_type": "code",
   "execution_count": 145,
   "id": "894a3bb0",
   "metadata": {},
   "outputs": [
    {
     "name": "stdout",
     "output_type": "stream",
     "text": [
      "skewness for Hours Studied: -0.676250695182695\n",
      "skewness for Previous Scores: -0.045093770126393075\n",
      "skewness for Sleep Hours: 0.8327129698881837\n",
      "skewness for Sample Question Papers Practiced: 0.002746255355965178\n",
      "skewness for Performance Index: -0.0366637573774976\n"
     ]
    }
   ],
   "source": [
    "for column in data.select_dtypes(include=[np.number]).columns:\n",
    "    skewness_per_column = data[column].skew()\n",
    "    print(f\"skewness for {column}: {skewness_per_column}\")"
   ]
  },
  {
   "cell_type": "code",
   "execution_count": 150,
   "id": "15800f39",
   "metadata": {},
   "outputs": [],
   "source": []
  },
  {
   "cell_type": "code",
   "execution_count": 226,
   "id": "5816edf0",
   "metadata": {},
   "outputs": [
    {
     "data": {
      "text/plain": [
       "Extracurricular Activities            0\n",
       "Hours Studied                       737\n",
       "Previous Scores                     756\n",
       "Sleep Hours                         710\n",
       "Sample Question Papers Practiced    723\n",
       "Performance Index                   754\n",
       "dtype: int64"
      ]
     },
     "execution_count": 226,
     "metadata": {},
     "output_type": "execute_result"
    }
   ],
   "source": [
    "for column in num_data.columns:\n",
    "    Q1=num_data[column].quantile(0.25)\n",
    "    Q3=num_data[column].quantile(0.75)\n",
    "    IQR=Q3-Q1\n",
    "    lower_bound = Q1-1.5*IQR\n",
    "    upper_bound = Q3+1.5*IQR\n",
    "    X[column]=num_data[(data[column]>=lower_bound) & (num_data[column]<=upper_bound)][column]\n",
    "X.isnull().sum()  "
   ]
  },
  {
   "cell_type": "code",
   "execution_count": 227,
   "id": "3b6bc53c",
   "metadata": {},
   "outputs": [],
   "source": [
    "X.dropna(inplace=True)"
   ]
  },
  {
   "cell_type": "code",
   "execution_count": 228,
   "id": "9c90c2ad",
   "metadata": {},
   "outputs": [
    {
     "data": {
      "text/plain": [
       "Extracurricular Activities          0\n",
       "Hours Studied                       0\n",
       "Previous Scores                     0\n",
       "Sleep Hours                         0\n",
       "Sample Question Papers Practiced    0\n",
       "Performance Index                   0\n",
       "dtype: int64"
      ]
     },
     "execution_count": 228,
     "metadata": {},
     "output_type": "execute_result"
    }
   ],
   "source": [
    "X.isnull().sum()"
   ]
  },
  {
   "cell_type": "code",
   "execution_count": 169,
   "id": "956d16bf",
   "metadata": {},
   "outputs": [
    {
     "data": {
      "text/plain": [
       "Extracurricular Activities\n",
       "0.0    3063\n",
       "1.0    3008\n",
       "Name: count, dtype: int64"
      ]
     },
     "execution_count": 169,
     "metadata": {},
     "output_type": "execute_result"
    }
   ],
   "source": [
    "X['Extracurricular Activities'].value_counts()"
   ]
  },
  {
   "cell_type": "code",
   "execution_count": 229,
   "id": "c35812c7",
   "metadata": {},
   "outputs": [
    {
     "data": {
      "image/png": "[encoded data removed]",
      "text/plain": [
       "<Figure size 640x480 with 2 Axes>"
      ]
     },
     "metadata": {},
     "output_type": "display_data"
    }
   ],
   "source": [
    "sns.heatmap(X.corr(), annot=True, cmap='YlGnBu', fmt='.2f', linewidths=0.5)\n",
    "plt.show()\n",
    "\n",
    "sns.pairplot(X)\n",
    "plt.show()"
   ]
  },
  {
   "cell_type": "code",
   "execution_count": null,
   "id": "732501a7",
   "metadata": {},
   "outputs": [],
   "source": [
    "#Box Plot\n",
    "plt.figure(figsize=(12, 6))\n",
    "sns.boxplot(data=X)\n",
    "plt.title(\"Box plot Apres le nettoyage\")\n",
    "plt.show()"
   ]
  },
  {
   "cell_type": "code",
   "execution_count": 230,
   "id": "ede85011",
   "metadata": {
    "scrolled": true
   },
   "outputs": [
    {
     "data": {
      "text/html": [
       "<div>\n",
       "<style scoped>\n",
       "    .dataframe tbody tr th:only-of-type {\n",
       "        vertical-align: middle;\n",
       "    }\n",
       "\n",
       "    .dataframe tbody tr th {\n",
       "        vertical-align: top;\n",
       "    }\n",
       "\n",
       "    .dataframe thead th {\n",
       "        text-align: right;\n",
       "    }\n",
       "</style>\n",
       "<table border=\"1\" class=\"dataframe\">\n",
       "  <thead>\n",
       "    <tr style=\"text-align: right;\">\n",
       "      <th></th>\n",
       "      <th>Extracurricular Activities</th>\n",
       "      <th>Hours Studied</th>\n",
       "      <th>Previous Scores</th>\n",
       "      <th>Sleep Hours</th>\n",
       "      <th>Sample Question Papers Practiced</th>\n",
       "      <th>Performance Index</th>\n",
       "    </tr>\n",
       "  </thead>\n",
       "  <tbody>\n",
       "    <tr>\n",
       "      <th>count</th>\n",
       "      <td>6071.000000</td>\n",
       "      <td>6071.000000</td>\n",
       "      <td>6071.000000</td>\n",
       "      <td>6071.000000</td>\n",
       "      <td>6071.000000</td>\n",
       "      <td>6071.00000</td>\n",
       "    </tr>\n",
       "    <tr>\n",
       "      <th>mean</th>\n",
       "      <td>0.495470</td>\n",
       "      <td>5.008565</td>\n",
       "      <td>69.274255</td>\n",
       "      <td>6.527920</td>\n",
       "      <td>4.578323</td>\n",
       "      <td>55.12255</td>\n",
       "    </tr>\n",
       "    <tr>\n",
       "      <th>std</th>\n",
       "      <td>0.500021</td>\n",
       "      <td>2.580677</td>\n",
       "      <td>17.235640</td>\n",
       "      <td>1.706419</td>\n",
       "      <td>2.877124</td>\n",
       "      <td>19.09454</td>\n",
       "    </tr>\n",
       "    <tr>\n",
       "      <th>min</th>\n",
       "      <td>0.000000</td>\n",
       "      <td>1.000000</td>\n",
       "      <td>40.000000</td>\n",
       "      <td>4.000000</td>\n",
       "      <td>0.000000</td>\n",
       "      <td>10.00000</td>\n",
       "    </tr>\n",
       "    <tr>\n",
       "      <th>25%</th>\n",
       "      <td>0.000000</td>\n",
       "      <td>3.000000</td>\n",
       "      <td>55.000000</td>\n",
       "      <td>5.000000</td>\n",
       "      <td>2.000000</td>\n",
       "      <td>40.00000</td>\n",
       "    </tr>\n",
       "    <tr>\n",
       "      <th>50%</th>\n",
       "      <td>0.000000</td>\n",
       "      <td>5.000000</td>\n",
       "      <td>69.000000</td>\n",
       "      <td>7.000000</td>\n",
       "      <td>5.000000</td>\n",
       "      <td>55.00000</td>\n",
       "    </tr>\n",
       "    <tr>\n",
       "      <th>75%</th>\n",
       "      <td>1.000000</td>\n",
       "      <td>7.000000</td>\n",
       "      <td>84.000000</td>\n",
       "      <td>8.000000</td>\n",
       "      <td>7.000000</td>\n",
       "      <td>70.00000</td>\n",
       "    </tr>\n",
       "    <tr>\n",
       "      <th>max</th>\n",
       "      <td>1.000000</td>\n",
       "      <td>9.000000</td>\n",
       "      <td>99.000000</td>\n",
       "      <td>9.000000</td>\n",
       "      <td>9.000000</td>\n",
       "      <td>100.00000</td>\n",
       "    </tr>\n",
       "  </tbody>\n",
       "</table>\n",
       "</div>"
      ],
      "text/plain": [
       "       Extracurricular Activities  Hours Studied  Previous Scores  \\\n",
       "count                 6071.000000    6071.000000      6071.000000   \n",
       "mean                     0.495470       5.008565        69.274255   \n",
       "std                      0.500021       2.580677        17.235640   \n",
       "min                      0.000000       1.000000        40.000000   \n",
       "25%                      0.000000       3.000000        55.000000   \n",
       "50%                      0.000000       5.000000        69.000000   \n",
       "75%                      1.000000       7.000000        84.000000   \n",
       "max                      1.000000       9.000000        99.000000   \n",
       "\n",
       "       Sleep Hours  Sample Question Papers Practiced  Performance Index  \n",
       "count  6071.000000                       6071.000000         6071.00000  \n",
       "mean      6.527920                          4.578323           55.12255  \n",
       "std       1.706419                          2.877124           19.09454  \n",
       "min       4.000000                          0.000000           10.00000  \n",
       "25%       5.000000                          2.000000           40.00000  \n",
       "50%       7.000000                          5.000000           55.00000  \n",
       "75%       8.000000                          7.000000           70.00000  \n",
       "max       9.000000                          9.000000          100.00000  "
      ]
     },
     "execution_count": 230,
     "metadata": {},
     "output_type": "execute_result"
    }
   ],
   "source": [
    "X.describe()"
   ]
  },
  {
   "cell_type": "code",
   "execution_count": 234,
   "id": "8747d493",
   "metadata": {},
   "outputs": [
    {
     "data": {
      "text/plain": [
       "(6071, 6)"
      ]
     },
     "execution_count": 234,
     "metadata": {},
     "output_type": "execute_result"
    }
   ],
   "source": [
    "X.shape"
   ]
  },
  {
   "cell_type": "code",
   "execution_count": 235,
   "id": "9426047e",
   "metadata": {},
   "outputs": [
    {
     "data": {
      "text/plain": [
       "Index(['Extracurricular Activities', 'Hours Studied', 'Previous Scores',\n",
       "       'Sleep Hours', 'Sample Question Papers Practiced', 'Performance Index'],\n",
       "      dtype='object')"
      ]
     },
     "execution_count": 235,
     "metadata": {},
     "output_type": "execute_result"
    }
   ],
   "source": [
    "X.columns"
   ]
  },
  {
   "cell_type": "code",
   "execution_count": 173,
   "id": "871a16ec",
   "metadata": {},
   "outputs": [],
   "source": [
    "X.drop(columns=(['Sleep Hours','Sample Question Papers Practiced']),inplace=True)"
   ]
  },
  {
   "cell_type": "code",
   "execution_count": 236,
   "id": "646cf444",
   "metadata": {},
   "outputs": [],
   "source": [
    "X=X.iloc[:,:-1]\n",
    "Y=X.iloc[:,-1]\n"
   ]
  },
  {
   "cell_type": "code",
   "execution_count": 237,
   "id": "f9e64425",
   "metadata": {},
   "outputs": [
    {
     "data": {
      "text/html": [
       "<div>\n",
       "<style scoped>\n",
       "    .dataframe tbody tr th:only-of-type {\n",
       "        vertical-align: middle;\n",
       "    }\n",
       "\n",
       "    .dataframe tbody tr th {\n",
       "        vertical-align: top;\n",
       "    }\n",
       "\n",
       "    .dataframe thead th {\n",
       "        text-align: right;\n",
       "    }\n",
       "</style>\n",
       "<table border=\"1\" class=\"dataframe\">\n",
       "  <thead>\n",
       "    <tr style=\"text-align: right;\">\n",
       "      <th></th>\n",
       "      <th>Extracurricular Activities</th>\n",
       "      <th>Hours Studied</th>\n",
       "      <th>Previous Scores</th>\n",
       "      <th>Sleep Hours</th>\n",
       "      <th>Sample Question Papers Practiced</th>\n",
       "    </tr>\n",
       "  </thead>\n",
       "  <tbody>\n",
       "    <tr>\n",
       "      <th>0</th>\n",
       "      <td>1.0</td>\n",
       "      <td>7.0</td>\n",
       "      <td>99.0</td>\n",
       "      <td>9.0</td>\n",
       "      <td>1.0</td>\n",
       "    </tr>\n",
       "    <tr>\n",
       "      <th>2</th>\n",
       "      <td>1.0</td>\n",
       "      <td>8.0</td>\n",
       "      <td>51.0</td>\n",
       "      <td>7.0</td>\n",
       "      <td>2.0</td>\n",
       "    </tr>\n",
       "    <tr>\n",
       "      <th>4</th>\n",
       "      <td>0.0</td>\n",
       "      <td>7.0</td>\n",
       "      <td>75.0</td>\n",
       "      <td>8.0</td>\n",
       "      <td>5.0</td>\n",
       "    </tr>\n",
       "    <tr>\n",
       "      <th>5</th>\n",
       "      <td>0.0</td>\n",
       "      <td>3.0</td>\n",
       "      <td>78.0</td>\n",
       "      <td>9.0</td>\n",
       "      <td>6.0</td>\n",
       "    </tr>\n",
       "    <tr>\n",
       "      <th>6</th>\n",
       "      <td>1.0</td>\n",
       "      <td>7.0</td>\n",
       "      <td>73.0</td>\n",
       "      <td>5.0</td>\n",
       "      <td>6.0</td>\n",
       "    </tr>\n",
       "    <tr>\n",
       "      <th>...</th>\n",
       "      <td>...</td>\n",
       "      <td>...</td>\n",
       "      <td>...</td>\n",
       "      <td>...</td>\n",
       "      <td>...</td>\n",
       "    </tr>\n",
       "    <tr>\n",
       "      <th>9987</th>\n",
       "      <td>0.0</td>\n",
       "      <td>9.0</td>\n",
       "      <td>74.0</td>\n",
       "      <td>4.0</td>\n",
       "      <td>6.0</td>\n",
       "    </tr>\n",
       "    <tr>\n",
       "      <th>9990</th>\n",
       "      <td>0.0</td>\n",
       "      <td>9.0</td>\n",
       "      <td>43.0</td>\n",
       "      <td>7.0</td>\n",
       "      <td>4.0</td>\n",
       "    </tr>\n",
       "    <tr>\n",
       "      <th>9992</th>\n",
       "      <td>0.0</td>\n",
       "      <td>9.0</td>\n",
       "      <td>52.0</td>\n",
       "      <td>9.0</td>\n",
       "      <td>7.0</td>\n",
       "    </tr>\n",
       "    <tr>\n",
       "      <th>9994</th>\n",
       "      <td>1.0</td>\n",
       "      <td>6.0</td>\n",
       "      <td>46.0</td>\n",
       "      <td>8.0</td>\n",
       "      <td>0.0</td>\n",
       "    </tr>\n",
       "    <tr>\n",
       "      <th>9997</th>\n",
       "      <td>1.0</td>\n",
       "      <td>6.0</td>\n",
       "      <td>83.0</td>\n",
       "      <td>8.0</td>\n",
       "      <td>5.0</td>\n",
       "    </tr>\n",
       "  </tbody>\n",
       "</table>\n",
       "<p>6071 rows × 5 columns</p>\n",
       "</div>"
      ],
      "text/plain": [
       "      Extracurricular Activities  Hours Studied  Previous Scores  Sleep Hours  \\\n",
       "0                            1.0            7.0             99.0          9.0   \n",
       "2                            1.0            8.0             51.0          7.0   \n",
       "4                            0.0            7.0             75.0          8.0   \n",
       "5                            0.0            3.0             78.0          9.0   \n",
       "6                            1.0            7.0             73.0          5.0   \n",
       "...                          ...            ...              ...          ...   \n",
       "9987                         0.0            9.0             74.0          4.0   \n",
       "9990                         0.0            9.0             43.0          7.0   \n",
       "9992                         0.0            9.0             52.0          9.0   \n",
       "9994                         1.0            6.0             46.0          8.0   \n",
       "9997                         1.0            6.0             83.0          8.0   \n",
       "\n",
       "      Sample Question Papers Practiced  \n",
       "0                                  1.0  \n",
       "2                                  2.0  \n",
       "4                                  5.0  \n",
       "5                                  6.0  \n",
       "6                                  6.0  \n",
       "...                                ...  \n",
       "9987                               6.0  \n",
       "9990                               4.0  \n",
       "9992                               7.0  \n",
       "9994                               0.0  \n",
       "9997                               5.0  \n",
       "\n",
       "[6071 rows x 5 columns]"
      ]
     },
     "execution_count": 237,
     "metadata": {},
     "output_type": "execute_result"
    }
   ],
   "source": [
    "X"
   ]
  },
  {
   "cell_type": "code",
   "execution_count": null,
   "id": "9b440934",
   "metadata": {},
   "outputs": [],
   "source": []
  },
  {
   "cell_type": "code",
   "execution_count": 83,
   "id": "c80d8258",
   "metadata": {},
   "outputs": [],
   "source": []
  },
  {
   "cell_type": "markdown",
   "id": "1b0c03b5",
   "metadata": {},
   "source": [
    "# la partie de modélisation"
   ]
  },
  {
   "cell_type": "code",
   "execution_count": 238,
   "id": "539520ad",
   "metadata": {},
   "outputs": [],
   "source": [
    "from sklearn.model_selection import train_test_split\n",
    "\n",
    "\n",
    "# Séparer en ensemble d'entraînement et de test\n",
    "X_train, X_test, y_train, y_test = train_test_split(X, Y, test_size=0.2)\n"
   ]
  },
  {
   "cell_type": "code",
   "execution_count": 241,
   "id": "8b0a3b3b",
   "metadata": {},
   "outputs": [],
   "source": [
    "# Dictionnaire avec plusieurs modèles\n",
    "models = {\n",
    "    'Linear Regression': LinearRegression(),\n",
    "    'Ridge Regression': Ridge(),\n",
    "    'Lasso Regression': Lasso(),\n",
    "    'Decision Tree Regressor': DecisionTreeRegressor(),\n",
    "    'Random Forest Regressor': RandomForestRegressor(),\n",
    "    'Gradient Boosting Regressor': GradientBoostingRegressor(),\n",
    "    'SVR (Support Vector Regressor)': SVR(),\n",
    "    'K-Nearest Neighbors Regressor': KNeighborsRegressor(),\n",
    "    'XGB Regressor': XGBRegressor()\n",
    "}\n"
   ]
  },
  {
   "cell_type": "code",
   "execution_count": 242,
   "id": "672533d8",
   "metadata": {},
   "outputs": [
    {
     "name": "stdout",
     "output_type": "stream",
     "text": [
      "Training Linear Regression model\n",
      "R2 Score: 1.0\n",
      "Mean Absolute Error: 7.268880165259853e-15\n",
      "_________________________\n",
      "Training Ridge Regression model\n",
      "R2 Score: 0.9999999993819503\n",
      "Mean Absolute Error: 6.160171179881894e-05\n",
      "_________________________\n",
      "Training Lasso Regression model\n",
      "R2 Score: 0.9854747563747923\n",
      "Mean Absolute Error: 0.2987681869607669\n",
      "_________________________\n",
      "Training Decision Tree Regressor model\n",
      "R2 Score: 1.0\n",
      "Mean Absolute Error: 0.0\n",
      "_________________________\n",
      "Training Random Forest Regressor model\n",
      "R2 Score: 1.0\n",
      "Mean Absolute Error: 0.0\n",
      "_________________________\n",
      "Training Gradient Boosting Regressor model\n",
      "R2 Score: 0.9999999990965329\n",
      "Mean Absolute Error: 7.173818859460481e-05\n",
      "_________________________\n",
      "Training SVR (Support Vector Regressor) model\n",
      "R2 Score: 0.9984739367829233\n",
      "Mean Absolute Error: 0.07760923603112957\n",
      "_________________________\n",
      "Training K-Nearest Neighbors Regressor model\n",
      "R2 Score: 0.9824230955485193\n",
      "Mean Absolute Error: 0.2997530864197531\n",
      "_________________________\n",
      "Training XGB Regressor model\n",
      "R2 Score: 0.9999999999659381\n",
      "Mean Absolute Error: 1.1881612039577416e-05\n",
      "_________________________\n"
     ]
    }
   ],
   "source": [
    "# Entraînement et évaluation des modèles\n",
    "for key, val in models.items():\n",
    "    print(f\"Training {key} model\")\n",
    "    mod = val.fit(X_train, y_train)\n",
    "    y_pred = mod.predict(X_test)\n",
    "    print(f\"R2 Score: {r2_score(y_test, y_pred)}\")  \n",
    "    print(f\"Mean Absolute Error: {mean_absolute_error(y_test, y_pred)}\")\n",
    "    print('_________________________')\n"
   ]
  },
  {
   "cell_type": "code",
   "execution_count": 196,
   "id": "87aca2b6",
   "metadata": {},
   "outputs": [
    {
     "data": {
      "image/png": "[encoded data removed]",
      "text/plain": [
       "<Figure size 1200x600 with 2 Axes>"
      ]
     },
     "metadata": {},
     "output_type": "display_data"
    },
    {
     "data": {
      "image/png": "[encoded data removed]",
      "text/plain": [
       "<Figure size 800x600 with 1 Axes>"
      ]
     },
     "metadata": {},
     "output_type": "display_data"
    }
   ],
   "source": [
    "mse_train = mean_squared_error(y_train, model.predict(X_train))\n",
    "r2_train = r2_score(y_train, model.predict(X_train))\n",
    "\n",
    "# Visualisation des performances\n",
    "plt.figure(figsize=(12, 6))\n",
    "\n",
    "# Tracer l'erreur quadratique moyenne (MSE)\n",
    "plt.subplot(1, 2, 1)\n",
    "plt.bar(['Train', 'Test'], [mse_train, mse], color=['blue', 'orange'])\n",
    "plt.title('Mean Squared Error')\n",
    "plt.ylabel('MSE')\n",
    "\n",
    "# Tracer le score R²\n",
    "plt.subplot(1, 2, 2)\n",
    "plt.bar(['Train', 'Test'], [r2_train, r2], color=['blue', 'orange'])\n",
    "plt.title('R² Score')\n",
    "plt.ylabel('R²')\n",
    "\n",
    "plt.tight_layout()\n",
    "plt.show()\n",
    "\n",
    "# Graphique des prédictions vs. valeurs réelles\n",
    "plt.figure(figsize=(8, 6))\n",
    "plt.scatter(y_test, y_pred, color='blue', label='Prédictions')\n",
    "plt.plot([min(y_test), max(y_test)], [min(y_test), max(y_test)], color='red', linestyle='--', label='Référence')\n",
    "plt.title('Prédictions vs. Valeurs Réelles')\n",
    "plt.xlabel('Valeurs réelles')\n",
    "plt.ylabel('Valeurs prédites')\n",
    "plt.legend()\n",
    "plt.show()"
   ]
  }
 ],
 "metadata": {
  "kernelspec": {
   "display_name": "Python 3 (ipykernel)",
   "language": "python",
   "name": "python3"
  },
  "language_info": {
   "codemirror_mode": {
    "name": "ipython",
    "version": 3
   },
   "file_extension": ".py",
   "mimetype": "text/x-python",
   "name": "python",
   "nbconvert_exporter": "python",
   "pygments_lexer": "ipython3",
   "version": "3.11.3"
  }
 },
 "nbformat": 4,
 "nbformat_minor": 5
}
